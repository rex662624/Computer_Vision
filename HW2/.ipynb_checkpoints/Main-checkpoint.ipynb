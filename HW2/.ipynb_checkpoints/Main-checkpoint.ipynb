{
 "cells": [
  {
   "cell_type": "markdown",
   "metadata": {},
   "source": [
    "### (a) a binary image (threshold at 128)"
   ]
  },
  {
   "cell_type": "code",
   "execution_count": 26,
   "metadata": {},
   "outputs": [
    {
     "data": {
      "text/plain": [
       "True"
      ]
     },
     "execution_count": 26,
     "metadata": {},
     "output_type": "execute_result"
    },
    {
     "data": {
      "image/png": "[encoded data removed]",
      "text/plain": [
       "<Figure size 432x288 with 1 Axes>"
      ]
     },
     "metadata": {},
     "output_type": "display_data"
    }
   ],
   "source": [
    "\n",
    "import cv2\n",
    "import matplotlib.pyplot as plt\n",
    "%matplotlib inline\n",
    "Image = cv2.imread('./lena.bmp', cv2.IMREAD_GRAYSCALE)\n",
    "\n",
    "for i in range(0, Image.shape[0]):\n",
    "    for j in range(0, Image.shape[1]):#超過128變255 否則變0\n",
    "        if(Image[i][j]>128):\n",
    "            Image[i][j] = 255\n",
    "        else:\n",
    "            Image[i][j] = 0\n",
    "plt.imshow(Image, cmap = 'gray')\n",
    "cv2.imwrite('a.jpg', Image)"
   ]
  },
  {
   "cell_type": "markdown",
   "metadata": {},
   "source": [
    "### (b) a histogram"
   ]
  },
  {
   "cell_type": "code",
   "execution_count": 27,
   "metadata": {},
   "outputs": [
    {
     "data": {
      "image/png": "[encoded data removed]",
      "text/plain": [
       "<Figure size 432x288 with 1 Axes>"
      ]
     },
     "metadata": {},
     "output_type": "display_data"
    }
   ],
   "source": [
    "import numpy\n",
    "histogram = [0 for i in range(255)]\n",
    "Image = cv2.imread('./lena.bmp', cv2.IMREAD_GRAYSCALE)\n",
    "width, height = Image.shape\n",
    "\n",
    "for i in range(width):\n",
    "    for j in range(height):\n",
    "        histogram[Image[i][j]-1] += 1\n",
    "        \n",
    "        \n",
    "x = range(255)\n",
    "y = histogram\n",
    "\n",
    "plt.bar(x, y)\n",
    "plt.show()"
   ]
  },
  {
   "cell_type": "markdown",
   "metadata": {},
   "source": [
    "### (c) connected components (regions with + at centroid,  bounding box)"
   ]
  },
  {
   "cell_type": "code",
   "execution_count": 52,
   "metadata": {},
   "outputs": [
    {
     "name": "stdout",
     "output_type": "stream",
     "text": [
      "find start\n",
      "find over\n"
     ]
    },
    {
     "data": {
      "text/plain": [
       "True"
      ]
     },
     "execution_count": 52,
     "metadata": {},
     "output_type": "execute_result"
    },
    {
     "data": {
      "image/png": "[encoded data removed]",
      "text/plain": [
       "<Figure size 432x288 with 1 Axes>"
      ]
     },
     "metadata": {},
     "output_type": "display_data"
    }
   ],
   "source": [
    "import cv2\n",
    "import numpy as np\n",
    "img = cv2.imread('./lena.bmp', cv2.IMREAD_GRAYSCALE)\n",
    "\n",
    "for i in range(512): \n",
    "    for j in range(512):\n",
    "        if(img[i,j]>128):\n",
    "            img[i,j]=255\n",
    "        else:\n",
    "            img[i,j]=0\n",
    "            \n",
    "label=np.zeros((512, 512), dtype=np.int) \n",
    "\n",
    "a=1 \n",
    "\n",
    "for i in range(512): \n",
    "    for j in range(512):\n",
    "        if(img[i,j]==255):\n",
    "            label[i,j]=a\n",
    "            a=a+1\n",
    "        else:\n",
    "            label[i,j]=0\n",
    "            \n",
    "\n",
    "print(\"find start\")\n",
    "\n",
    "change=1\n",
    "\n",
    "#TOP DOWN WHILE VALUE STILL CHANGE\n",
    "while(change): \n",
    "    change=0;\n",
    "    for i in range(512):\n",
    "        for j in range(512):\n",
    "            if (label[i][j] != 0):\n",
    "                \n",
    "                #只要看上面跟左邊 (top down)\n",
    "                \n",
    "                min=label[i][j]\n",
    "                if ((i-1>=0) and (label[i-1][j]!=0) and (label[i-1][j]<min)):\n",
    "                    min=label[i-1][j]\n",
    "                if ((j-1>=0) and (label[i][j-1]!=0) and (label[i][j-1]<min)):\n",
    "                    min=label[i][j-1]\n",
    "                if (min != label[i][j]):\n",
    "                    label[i][j]=min\n",
    "                    change=1\n",
    "                \n",
    "                \n",
    "    #bottom up            \n",
    "    for i in range(511,-1,-1):\n",
    "        for j in range(511,-1,-1):\n",
    "            if (label[i][j] != 0):\n",
    "            \n",
    "                min=label[i][j]\n",
    "            \n",
    "                if ((i+1<512) and (label[i+1][j]!=0) and (label[i+1][j]<min)):\n",
    "                    min=label[i+1][j]\n",
    "                if ((j+1<512) and (label[i][j+1]!=0) and (label[i][j+1]<min)):\n",
    "                    min=label[i][j+1]\n",
    "                if (min != label[i][j]):\n",
    "                    label[i][j]=min;\n",
    "                    change=1;\n",
    "                \n",
    "\n",
    "print(\"find over\")\n",
    "region=np.zeros(a) \n",
    "\n",
    "for i in range(512): \n",
    "    for j in range(512):\n",
    "        region[label[i][j]]=region[label[i][j]]+1;\n",
    "\n",
    "im = cv2.cvtColor(img, cv2.COLOR_GRAY2BGR) \n",
    "\n",
    "for k in range(1,a): \n",
    "    if (region[k] >=500):\n",
    "        up=512;\n",
    "        down=-1;\n",
    "        left=512;\n",
    "        right=-1;\n",
    "        \n",
    "        sumx = 0\n",
    "        sumy = 0\n",
    "        numpt = 0\n",
    "\n",
    "        for i in range(512):\n",
    "            for j in range(512):\n",
    "                if (label[i][j]==k):\n",
    "                    sumx += j\n",
    "                    sumy += i\n",
    "                    numpt += 1\n",
    "                    \n",
    "                    if (i < up):\n",
    "                        up=i\n",
    "                    if (i > down):\n",
    "                        down=i\n",
    "                    if (j < left):\n",
    "                        left=j\n",
    "                    if (j > right):\n",
    "                        right=j\n",
    "\n",
    "        x= sumx/numpt \n",
    "        y= sumy/numpt\n",
    "        \n",
    "        \n",
    "        cv2.rectangle(im, (left,up), (right,down), (240,232,178), 3) \n",
    "        \n",
    "        cv2.line(im,(int(x),int(y-5)),(int(x),int(y+5)),(0, 0, 255),2)\n",
    "        cv2.line(im,(int(x-5),int(y)),(int(x+5),int(y)),(0, 0, 255),2)\n",
    "        #cv2.circle(im,(int(y),int(x)),2,(0, 0, 255))\n",
    "        \n",
    "plt.imshow(im)    \n",
    "cv2.imwrite('c.bmp', im) "
   ]
  },
  {
   "cell_type": "code",
   "execution_count": null,
   "metadata": {},
   "outputs": [],
   "source": []
  }
 ],
 "metadata": {
  "kernelspec": {
   "display_name": "Python 3",
   "language": "python",
   "name": "python3"
  },
  "language_info": {
   "codemirror_mode": {
    "name": "ipython",
    "version": 3
   },
   "file_extension": ".py",
   "mimetype": "text/x-python",
   "name": "python",
   "nbconvert_exporter": "python",
   "pygments_lexer": "ipython3",
   "version": "3.6.5"
  }
 },
 "nbformat": 4,
 "nbformat_minor": 2
}
